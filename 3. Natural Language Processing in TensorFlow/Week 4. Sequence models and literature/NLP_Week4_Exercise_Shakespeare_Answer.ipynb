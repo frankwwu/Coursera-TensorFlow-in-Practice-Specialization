{
  "nbformat": 4,
  "nbformat_minor": 0,
  "metadata": {
    "accelerator": "GPU",
    "colab": {
      "name": "NLP_Week4_Exercise_Shakespeare_Answer.ipynb",
      "provenance": [],
      "collapsed_sections": []
    },
    "kernelspec": {
      "display_name": "Python 3",
      "language": "python",
      "name": "python3"
    },
    "language_info": {
      "codemirror_mode": {
        "name": "ipython",
        "version": 3
      },
      "file_extension": ".py",
      "mimetype": "text/x-python",
      "name": "python",
      "nbconvert_exporter": "python",
      "pygments_lexer": "ipython3",
      "version": "3.7.6"
    }
  },
  "cells": [
    {
      "cell_type": "code",
      "metadata": {
        "colab_type": "code",
        "id": "BOwsuGQQY9OL",
        "colab": {}
      },
      "source": [
        "from tensorflow.keras.preprocessing.sequence import pad_sequences\n",
        "from tensorflow.keras.layers import Embedding, LSTM, Dense, Dropout, Bidirectional\n",
        "from tensorflow.keras.preprocessing.text import Tokenizer\n",
        "from tensorflow.keras.models import Sequential\n",
        "from tensorflow.keras.optimizers import Adam\n",
        "from tensorflow.keras import regularizers\n",
        "import tensorflow.keras.utils as ku \n",
        "import numpy as np "
      ],
      "execution_count": 1,
      "outputs": []
    },
    {
      "cell_type": "code",
      "metadata": {
        "colab_type": "code",
        "id": "PRnDnCW-Z7qv",
        "colab": {
          "base_uri": "https://localhost:8080/",
          "height": 219
        },
        "outputId": "e6553197-9535-4830-9d9d-e16a2a999f18"
      },
      "source": [
        "tokenizer = Tokenizer()\n",
        "!wget --no-check-certificate \\\n",
        "    https://storage.googleapis.com/laurencemoroney-blog.appspot.com/sonnets.txt \\\n",
        "    -O /tmp/sonnets.txt\n",
        "data = open('/tmp/sonnets.txt').read()\n",
        "\n",
        "corpus = data.lower().split(\"\\n\")\n",
        "\n",
        "\n",
        "tokenizer.fit_on_texts(corpus)\n",
        "total_words = len(tokenizer.word_index) + 1\n",
        "\n",
        "# create input sequences using list of tokens\n",
        "input_sequences = []\n",
        "for line in corpus:\n",
        "\ttoken_list = tokenizer.texts_to_sequences([line])[0]\n",
        "\tfor i in range(1, len(token_list)):\n",
        "\t\tn_gram_sequence = token_list[:i+1]\n",
        "\t\tinput_sequences.append(n_gram_sequence)\n",
        "\n",
        "\n",
        "# pad sequences \n",
        "max_sequence_len = max([len(x) for x in input_sequences])\n",
        "input_sequences = np.array(pad_sequences(input_sequences, maxlen=max_sequence_len, padding='pre'))\n",
        "\n",
        "# create predictors and label\n",
        "predictors, label = input_sequences[:,:-1],input_sequences[:,-1]\n",
        "\n",
        "label = ku.to_categorical(label, num_classes=total_words)"
      ],
      "execution_count": 2,
      "outputs": [
        {
          "output_type": "stream",
          "text": [
            "--2020-07-17 17:33:53--  https://storage.googleapis.com/laurencemoroney-blog.appspot.com/sonnets.txt\n",
            "Resolving storage.googleapis.com (storage.googleapis.com)... 64.233.188.128, 64.233.189.128, 108.177.97.128, ...\n",
            "Connecting to storage.googleapis.com (storage.googleapis.com)|64.233.188.128|:443... connected.\n",
            "HTTP request sent, awaiting response... 200 OK\n",
            "Length: 93578 (91K) [text/plain]\n",
            "Saving to: ‘/tmp/sonnets.txt’\n",
            "\n",
            "\r/tmp/sonnets.txt      0%[                    ]       0  --.-KB/s               \r/tmp/sonnets.txt    100%[===================>]  91.38K  --.-KB/s    in 0.001s  \n",
            "\n",
            "2020-07-17 17:33:53 (119 MB/s) - ‘/tmp/sonnets.txt’ saved [93578/93578]\n",
            "\n"
          ],
          "name": "stdout"
        }
      ]
    },
    {
      "cell_type": "code",
      "metadata": {
        "colab_type": "code",
        "id": "w9vH8Y59ajYL",
        "colab": {
          "base_uri": "https://localhost:8080/",
          "height": 403
        },
        "outputId": "14575e91-9f00-4ba1-9a2a-59a1aa38e33d"
      },
      "source": [
        "model = Sequential()\n",
        "model.add(Embedding(total_words, 100, input_length=max_sequence_len-1))\n",
        "model.add(Bidirectional(LSTM(150, return_sequences = True)))\n",
        "model.add(Dropout(0.2))\n",
        "model.add(LSTM(100))\n",
        "model.add(Dense(total_words/2, activation='relu', kernel_regularizer=regularizers.l2(0.01)))\n",
        "model.add(Dense(total_words, activation='softmax'))\n",
        "model.compile(loss='categorical_crossentropy', optimizer='adam', metrics=['accuracy'])\n",
        "print(model.summary())\n"
      ],
      "execution_count": 3,
      "outputs": [
        {
          "output_type": "stream",
          "text": [
            "Model: \"sequential\"\n",
            "_________________________________________________________________\n",
            "Layer (type)                 Output Shape              Param #   \n",
            "=================================================================\n",
            "embedding (Embedding)        (None, 10, 100)           321100    \n",
            "_________________________________________________________________\n",
            "bidirectional (Bidirectional (None, 10, 300)           301200    \n",
            "_________________________________________________________________\n",
            "dropout (Dropout)            (None, 10, 300)           0         \n",
            "_________________________________________________________________\n",
            "lstm_1 (LSTM)                (None, 100)               160400    \n",
            "_________________________________________________________________\n",
            "dense (Dense)                (None, 1605)              162105    \n",
            "_________________________________________________________________\n",
            "dense_1 (Dense)              (None, 3211)              5156866   \n",
            "=================================================================\n",
            "Total params: 6,101,671\n",
            "Trainable params: 6,101,671\n",
            "Non-trainable params: 0\n",
            "_________________________________________________________________\n",
            "None\n"
          ],
          "name": "stdout"
        }
      ]
    },
    {
      "cell_type": "code",
      "metadata": {
        "colab_type": "code",
        "id": "AIg2f1HBxqof",
        "colab": {
          "base_uri": "https://localhost:8080/",
          "height": 1000
        },
        "outputId": "c177cdc3-c9bd-44b7-87fa-0c01017583d5"
      },
      "source": [
        " history = model.fit(predictors, label, epochs=100, verbose=1)"
      ],
      "execution_count": 4,
      "outputs": [
        {
          "output_type": "stream",
          "text": [
            "Epoch 1/100\n",
            "484/484 [==============================] - 13s 26ms/step - loss: 6.9109 - accuracy: 0.0230\n",
            "Epoch 2/100\n",
            "484/484 [==============================] - 13s 26ms/step - loss: 6.4957 - accuracy: 0.0207\n",
            "Epoch 3/100\n",
            "484/484 [==============================] - 13s 26ms/step - loss: 6.3979 - accuracy: 0.0264\n",
            "Epoch 4/100\n",
            "484/484 [==============================] - 13s 26ms/step - loss: 6.2764 - accuracy: 0.0304\n",
            "Epoch 5/100\n",
            "484/484 [==============================] - 13s 26ms/step - loss: 6.1730 - accuracy: 0.0359\n",
            "Epoch 6/100\n",
            "484/484 [==============================] - 13s 27ms/step - loss: 6.0836 - accuracy: 0.0405\n",
            "Epoch 7/100\n",
            "484/484 [==============================] - 13s 27ms/step - loss: 6.0012 - accuracy: 0.0420\n",
            "Epoch 8/100\n",
            "484/484 [==============================] - 13s 27ms/step - loss: 5.9092 - accuracy: 0.0468\n",
            "Epoch 9/100\n",
            "484/484 [==============================] - 13s 27ms/step - loss: 5.7988 - accuracy: 0.0537\n",
            "Epoch 10/100\n",
            "484/484 [==============================] - 13s 27ms/step - loss: 5.6842 - accuracy: 0.0605\n",
            "Epoch 11/100\n",
            "484/484 [==============================] - 13s 27ms/step - loss: 5.5771 - accuracy: 0.0678\n",
            "Epoch 12/100\n",
            "484/484 [==============================] - 13s 27ms/step - loss: 5.4770 - accuracy: 0.0751\n",
            "Epoch 13/100\n",
            "484/484 [==============================] - 13s 27ms/step - loss: 5.3718 - accuracy: 0.0788\n",
            "Epoch 14/100\n",
            "484/484 [==============================] - 13s 27ms/step - loss: 5.2726 - accuracy: 0.0854\n",
            "Epoch 15/100\n",
            "484/484 [==============================] - 13s 27ms/step - loss: 5.1711 - accuracy: 0.0911\n",
            "Epoch 16/100\n",
            "484/484 [==============================] - 13s 27ms/step - loss: 5.0685 - accuracy: 0.1001\n",
            "Epoch 17/100\n",
            "484/484 [==============================] - 13s 27ms/step - loss: 4.9684 - accuracy: 0.1072\n",
            "Epoch 18/100\n",
            "484/484 [==============================] - 13s 27ms/step - loss: 4.8709 - accuracy: 0.1179\n",
            "Epoch 19/100\n",
            "484/484 [==============================] - 13s 27ms/step - loss: 4.7686 - accuracy: 0.1244\n",
            "Epoch 20/100\n",
            "484/484 [==============================] - 13s 27ms/step - loss: 4.6695 - accuracy: 0.1375\n",
            "Epoch 21/100\n",
            "484/484 [==============================] - 13s 27ms/step - loss: 4.5714 - accuracy: 0.1437\n",
            "Epoch 22/100\n",
            "484/484 [==============================] - 13s 27ms/step - loss: 4.4652 - accuracy: 0.1579\n",
            "Epoch 23/100\n",
            "484/484 [==============================] - 13s 27ms/step - loss: 4.3651 - accuracy: 0.1678\n",
            "Epoch 24/100\n",
            "484/484 [==============================] - 13s 27ms/step - loss: 4.2708 - accuracy: 0.1771\n",
            "Epoch 25/100\n",
            "484/484 [==============================] - 13s 27ms/step - loss: 4.1721 - accuracy: 0.1903\n",
            "Epoch 26/100\n",
            "484/484 [==============================] - 13s 27ms/step - loss: 4.0699 - accuracy: 0.2026\n",
            "Epoch 27/100\n",
            "484/484 [==============================] - 13s 27ms/step - loss: 3.9730 - accuracy: 0.2158\n",
            "Epoch 28/100\n",
            "484/484 [==============================] - 13s 27ms/step - loss: 3.8748 - accuracy: 0.2333\n",
            "Epoch 29/100\n",
            "484/484 [==============================] - 13s 27ms/step - loss: 3.7817 - accuracy: 0.2451\n",
            "Epoch 30/100\n",
            "484/484 [==============================] - 13s 27ms/step - loss: 3.6904 - accuracy: 0.2659\n",
            "Epoch 31/100\n",
            "484/484 [==============================] - 13s 28ms/step - loss: 3.5916 - accuracy: 0.2838\n",
            "Epoch 32/100\n",
            "484/484 [==============================] - 13s 27ms/step - loss: 3.5046 - accuracy: 0.3006\n",
            "Epoch 33/100\n",
            "484/484 [==============================] - 13s 27ms/step - loss: 3.4243 - accuracy: 0.3166\n",
            "Epoch 34/100\n",
            "484/484 [==============================] - 13s 27ms/step - loss: 3.3387 - accuracy: 0.3399\n",
            "Epoch 35/100\n",
            "484/484 [==============================] - 13s 27ms/step - loss: 3.2554 - accuracy: 0.3573\n",
            "Epoch 36/100\n",
            "484/484 [==============================] - 13s 27ms/step - loss: 3.1818 - accuracy: 0.3730\n",
            "Epoch 37/100\n",
            "484/484 [==============================] - 13s 27ms/step - loss: 3.1059 - accuracy: 0.3918\n",
            "Epoch 38/100\n",
            "484/484 [==============================] - 13s 27ms/step - loss: 3.0233 - accuracy: 0.4090\n",
            "Epoch 39/100\n",
            "484/484 [==============================] - 13s 27ms/step - loss: 2.9566 - accuracy: 0.4248\n",
            "Epoch 40/100\n",
            "484/484 [==============================] - 13s 27ms/step - loss: 2.8850 - accuracy: 0.4418\n",
            "Epoch 41/100\n",
            "484/484 [==============================] - 13s 27ms/step - loss: 2.8216 - accuracy: 0.4599\n",
            "Epoch 42/100\n",
            "484/484 [==============================] - 13s 27ms/step - loss: 2.7522 - accuracy: 0.4727\n",
            "Epoch 43/100\n",
            "484/484 [==============================] - 13s 27ms/step - loss: 2.7006 - accuracy: 0.4851\n",
            "Epoch 44/100\n",
            "484/484 [==============================] - 13s 27ms/step - loss: 2.6532 - accuracy: 0.4975\n",
            "Epoch 45/100\n",
            "484/484 [==============================] - 13s 27ms/step - loss: 2.5786 - accuracy: 0.5121\n",
            "Epoch 46/100\n",
            "484/484 [==============================] - 13s 27ms/step - loss: 2.5210 - accuracy: 0.5250\n",
            "Epoch 47/100\n",
            "484/484 [==============================] - 13s 27ms/step - loss: 2.4676 - accuracy: 0.5322\n",
            "Epoch 48/100\n",
            "484/484 [==============================] - 13s 27ms/step - loss: 2.4257 - accuracy: 0.5427\n",
            "Epoch 49/100\n",
            "484/484 [==============================] - 13s 27ms/step - loss: 2.3736 - accuracy: 0.5567\n",
            "Epoch 50/100\n",
            "484/484 [==============================] - 13s 27ms/step - loss: 2.3276 - accuracy: 0.5665\n",
            "Epoch 51/100\n",
            "484/484 [==============================] - 13s 27ms/step - loss: 2.2880 - accuracy: 0.5775\n",
            "Epoch 52/100\n",
            "484/484 [==============================] - 13s 27ms/step - loss: 2.2347 - accuracy: 0.5899\n",
            "Epoch 53/100\n",
            "484/484 [==============================] - 13s 27ms/step - loss: 2.2069 - accuracy: 0.5951\n",
            "Epoch 54/100\n",
            "484/484 [==============================] - 13s 27ms/step - loss: 2.1504 - accuracy: 0.6063\n",
            "Epoch 55/100\n",
            "484/484 [==============================] - 13s 28ms/step - loss: 2.1087 - accuracy: 0.6152\n",
            "Epoch 56/100\n",
            "484/484 [==============================] - 13s 27ms/step - loss: 2.0808 - accuracy: 0.6229\n",
            "Epoch 57/100\n",
            "484/484 [==============================] - 13s 27ms/step - loss: 2.0435 - accuracy: 0.6278\n",
            "Epoch 58/100\n",
            "484/484 [==============================] - 13s 27ms/step - loss: 2.0002 - accuracy: 0.6403\n",
            "Epoch 59/100\n",
            "484/484 [==============================] - 13s 27ms/step - loss: 1.9652 - accuracy: 0.6444\n",
            "Epoch 60/100\n",
            "484/484 [==============================] - 13s 27ms/step - loss: 1.9263 - accuracy: 0.6553\n",
            "Epoch 61/100\n",
            "484/484 [==============================] - 13s 27ms/step - loss: 1.8958 - accuracy: 0.6621\n",
            "Epoch 62/100\n",
            "484/484 [==============================] - 13s 27ms/step - loss: 1.8653 - accuracy: 0.6668\n",
            "Epoch 63/100\n",
            "484/484 [==============================] - 13s 27ms/step - loss: 1.8469 - accuracy: 0.6682\n",
            "Epoch 64/100\n",
            "484/484 [==============================] - 13s 27ms/step - loss: 1.8108 - accuracy: 0.6790\n",
            "Epoch 65/100\n",
            "484/484 [==============================] - 13s 27ms/step - loss: 1.7756 - accuracy: 0.6826\n",
            "Epoch 66/100\n",
            "484/484 [==============================] - 13s 27ms/step - loss: 1.7446 - accuracy: 0.6925\n",
            "Epoch 67/100\n",
            "484/484 [==============================] - 13s 27ms/step - loss: 1.7258 - accuracy: 0.6979\n",
            "Epoch 68/100\n",
            "484/484 [==============================] - 13s 27ms/step - loss: 1.7039 - accuracy: 0.6954\n",
            "Epoch 69/100\n",
            "484/484 [==============================] - 13s 27ms/step - loss: 1.6737 - accuracy: 0.7077\n",
            "Epoch 70/100\n",
            "484/484 [==============================] - 13s 27ms/step - loss: 1.6484 - accuracy: 0.7098\n",
            "Epoch 71/100\n",
            "484/484 [==============================] - 13s 27ms/step - loss: 1.6351 - accuracy: 0.7150\n",
            "Epoch 72/100\n",
            "484/484 [==============================] - 13s 27ms/step - loss: 1.6073 - accuracy: 0.7192\n",
            "Epoch 73/100\n",
            "484/484 [==============================] - 13s 27ms/step - loss: 1.5838 - accuracy: 0.7197\n",
            "Epoch 74/100\n",
            "484/484 [==============================] - 13s 27ms/step - loss: 1.5505 - accuracy: 0.7287\n",
            "Epoch 75/100\n",
            "484/484 [==============================] - 13s 27ms/step - loss: 1.5331 - accuracy: 0.7342\n",
            "Epoch 76/100\n",
            "484/484 [==============================] - 13s 27ms/step - loss: 1.5217 - accuracy: 0.7343\n",
            "Epoch 77/100\n",
            "484/484 [==============================] - 13s 27ms/step - loss: 1.5117 - accuracy: 0.7363\n",
            "Epoch 78/100\n",
            "484/484 [==============================] - 13s 27ms/step - loss: 1.4823 - accuracy: 0.7426\n",
            "Epoch 79/100\n",
            "484/484 [==============================] - 13s 28ms/step - loss: 1.4666 - accuracy: 0.7458\n",
            "Epoch 80/100\n",
            "484/484 [==============================] - 13s 27ms/step - loss: 1.4526 - accuracy: 0.7457\n",
            "Epoch 81/100\n",
            "484/484 [==============================] - 13s 27ms/step - loss: 1.4277 - accuracy: 0.7522\n",
            "Epoch 82/100\n",
            "484/484 [==============================] - 13s 27ms/step - loss: 1.4174 - accuracy: 0.7527\n",
            "Epoch 83/100\n",
            "484/484 [==============================] - 13s 27ms/step - loss: 1.3878 - accuracy: 0.7595\n",
            "Epoch 84/100\n",
            "484/484 [==============================] - 13s 27ms/step - loss: 1.3794 - accuracy: 0.7592\n",
            "Epoch 85/100\n",
            "484/484 [==============================] - 13s 27ms/step - loss: 1.3545 - accuracy: 0.7676\n",
            "Epoch 86/100\n",
            "484/484 [==============================] - 13s 27ms/step - loss: 1.3492 - accuracy: 0.7669\n",
            "Epoch 87/100\n",
            "484/484 [==============================] - 13s 27ms/step - loss: 1.3504 - accuracy: 0.7648\n",
            "Epoch 88/100\n",
            "484/484 [==============================] - 13s 27ms/step - loss: 1.3266 - accuracy: 0.7664\n",
            "Epoch 89/100\n",
            "484/484 [==============================] - 13s 27ms/step - loss: 1.3095 - accuracy: 0.7738\n",
            "Epoch 90/100\n",
            "484/484 [==============================] - 13s 27ms/step - loss: 1.3042 - accuracy: 0.7712\n",
            "Epoch 91/100\n",
            "484/484 [==============================] - 13s 27ms/step - loss: 1.2822 - accuracy: 0.7769\n",
            "Epoch 92/100\n",
            "484/484 [==============================] - 13s 27ms/step - loss: 1.2687 - accuracy: 0.7806\n",
            "Epoch 93/100\n",
            "484/484 [==============================] - 13s 27ms/step - loss: 1.2531 - accuracy: 0.7823\n",
            "Epoch 94/100\n",
            "484/484 [==============================] - 13s 27ms/step - loss: 1.2388 - accuracy: 0.7862\n",
            "Epoch 95/100\n",
            "484/484 [==============================] - 13s 27ms/step - loss: 1.2294 - accuracy: 0.7865\n",
            "Epoch 96/100\n",
            "484/484 [==============================] - 13s 27ms/step - loss: 1.2263 - accuracy: 0.7861\n",
            "Epoch 97/100\n",
            "484/484 [==============================] - 13s 27ms/step - loss: 1.2085 - accuracy: 0.7894\n",
            "Epoch 98/100\n",
            "484/484 [==============================] - 13s 27ms/step - loss: 1.1880 - accuracy: 0.7916\n",
            "Epoch 99/100\n",
            "484/484 [==============================] - 13s 27ms/step - loss: 1.2021 - accuracy: 0.7883\n",
            "Epoch 100/100\n",
            "484/484 [==============================] - 13s 27ms/step - loss: 1.1910 - accuracy: 0.7910\n"
          ],
          "name": "stdout"
        }
      ]
    },
    {
      "cell_type": "code",
      "metadata": {
        "colab_type": "code",
        "id": "1fXTEO3GJ282",
        "colab": {
          "base_uri": "https://localhost:8080/",
          "height": 545
        },
        "outputId": "0a28499b-db78-4e46-9213-70c2ed3440d5"
      },
      "source": [
        "import matplotlib.pyplot as plt\n",
        "acc = history.history['accuracy']\n",
        "loss = history.history['loss']\n",
        "\n",
        "epochs = range(len(acc))\n",
        "\n",
        "plt.plot(epochs, acc, 'b', label='Training accuracy')\n",
        "plt.title('Training accuracy')\n",
        "\n",
        "plt.figure()\n",
        "\n",
        "plt.plot(epochs, loss, 'b', label='Training Loss')\n",
        "plt.title('Training loss')\n",
        "plt.legend()\n",
        "\n",
        "plt.show()"
      ],
      "execution_count": 5,
      "outputs": [
        {
          "output_type": "display_data",
          "data": {
            "image/png": "[encoded data removed]",
            "text/plain": [
              "<Figure size 432x288 with 1 Axes>"
            ]
          },
          "metadata": {
            "tags": [],
            "needs_background": "light"
          }
        },
        {
          "output_type": "display_data",
          "data": {
            "image/png": "[encoded data removed]",
            "text/plain": [
              "<Figure size 432x288 with 1 Axes>"
            ]
          },
          "metadata": {
            "tags": [],
            "needs_background": "light"
          }
        }
      ]
    },
    {
      "cell_type": "code",
      "metadata": {
        "colab_type": "code",
        "id": "6Vc6PHgxa6Hm",
        "colab": {
          "base_uri": "https://localhost:8080/",
          "height": 110
        },
        "outputId": "e7046851-3805-4251-8d64-15ef0b3c6275"
      },
      "source": [
        "seed_text = \"Help me Obi Wan Kenobi, you're my only hope\"\n",
        "next_words = 100\n",
        "  \n",
        "for _ in range(next_words):\n",
        "\ttoken_list = tokenizer.texts_to_sequences([seed_text])[0]\n",
        "\ttoken_list = pad_sequences([token_list], maxlen=max_sequence_len-1, padding='pre')\n",
        "\tpredicted = model.predict_classes(token_list, verbose=0)\n",
        "\toutput_word = \"\"\n",
        "\tfor word, index in tokenizer.word_index.items():\n",
        "\t\tif index == predicted:\n",
        "\t\t\toutput_word = word\n",
        "\t\t\tbreak\n",
        "\tseed_text += \" \" + output_word\n",
        "print(seed_text)"
      ],
      "execution_count": 6,
      "outputs": [
        {
          "output_type": "stream",
          "text": [
            "WARNING:tensorflow:From <ipython-input-6-622d307fa19a>:7: Sequential.predict_classes (from tensorflow.python.keras.engine.sequential) is deprecated and will be removed after 2021-01-01.\n",
            "Instructions for updating:\n",
            "Please use instead:* `np.argmax(model.predict(x), axis=-1)`,   if your model does multi-class classification   (e.g. if it uses a `softmax` last-layer activation).* `(model.predict(x) > 0.5).astype(\"int32\")`,   if your model does binary classification   (e.g. if it uses a `sigmoid` last-layer activation).\n",
            "Help me Obi Wan Kenobi, you're my only hope well needs doth pry show thee me releasing contains lend cross rest groan doth go pride hath prove thee new her shade new hate of eyes time can find both eyes hence see sun go sight than night days than living cold green shame flowers had new now go well befits fix'd by lease thy heart bright wrong wrong wrong days wastes wrong wrong wastes cold days go even of die room live days prove best now seem dwell inhearse date leaves due seem new now go and seem doth take her thine eye is not come in thee dear\n"
          ],
          "name": "stdout"
        }
      ]
    }
  ]
}