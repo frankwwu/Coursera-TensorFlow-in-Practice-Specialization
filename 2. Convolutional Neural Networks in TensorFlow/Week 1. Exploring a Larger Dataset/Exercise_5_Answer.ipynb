{
 "cells": [
  {
   "cell_type": "code",
   "execution_count": 1,
   "metadata": {
    "colab": {},
    "colab_type": "code",
    "id": "dn-6c02VmqiN"
   },
   "outputs": [],
   "source": [
    "import os\n",
    "import zipfile\n",
    "import random\n",
    "import tensorflow as tf\n",
    "from tensorflow.keras.optimizers import RMSprop\n",
    "from tensorflow.keras.preprocessing.image import ImageDataGenerator\n",
    "from shutil import copyfile"
   ]
  },
  {
   "cell_type": "code",
   "execution_count": 2,
   "metadata": {
    "colab": {
     "base_uri": "https://localhost:8080/",
     "height": 204
    },
    "colab_type": "code",
    "id": "3sd9dQWa23aj",
    "outputId": "3bb20a4d-4a8a-4d67-f34c-3112dab7fbac"
   },
   "outputs": [
    {
     "name": "stdout",
     "output_type": "stream",
     "text": [
      "--2020-07-14 17:06:59--  https://download.microsoft.com/download/3/E/1/3E1C3F21-ECDB-4869-8368-6DEBA77B919F/kagglecatsanddogs_3367a.zip\n",
      "Resolving download.microsoft.com (download.microsoft.com)... 104.93.0.142, 2600:140e:6:ba1::e59, 2600:140e:6:b8d::e59\n",
      "Connecting to download.microsoft.com (download.microsoft.com)|104.93.0.142|:443... connected.\n",
      "HTTP request sent, awaiting response... 200 OK\n",
      "Length: 824894548 (787M) [application/octet-stream]\n",
      "Saving to: ‘/tmp/cats-and-dogs.zip’\n",
      "\n",
      "/tmp/cats-and-dogs. 100%[===================>] 786.68M  32.1MB/s    in 53s     \n",
      "\n",
      "2020-07-14 17:07:54 (14.7 MB/s) - ‘/tmp/cats-and-dogs.zip’ saved [824894548/824894548]\n",
      "\n"
     ]
    }
   ],
   "source": [
    "# If the URL doesn't work, visit https://www.microsoft.com/en-us/download/confirmation.aspx?id=54765\n",
    "# And right click on the 'Download Manually' link to get a new URL to the dataset\n",
    "\n",
    "# Note: This is a very large dataset and will take time to download\n",
    "\n",
    "!wget --no-check-certificate \\\n",
    "    \"https://download.microsoft.com/download/3/E/1/3E1C3F21-ECDB-4869-8368-6DEBA77B919F/kagglecatsanddogs_3367a.zip\" \\\n",
    "    -O \"/tmp/cats-and-dogs.zip\"\n",
    "\n",
    "local_zip = '/tmp/cats-and-dogs.zip'\n",
    "zip_ref   = zipfile.ZipFile(local_zip, 'r')\n",
    "zip_ref.extractall('/tmp')\n",
    "zip_ref.close()\n"
   ]
  },
  {
   "cell_type": "code",
   "execution_count": 3,
   "metadata": {
    "colab": {
     "base_uri": "https://localhost:8080/",
     "height": 51
    },
    "colab_type": "code",
    "id": "DM851ZmN28J3",
    "outputId": "c6c9bfa2-0264-49bf-bcf9-28cd8f5853b7"
   },
   "outputs": [
    {
     "name": "stdout",
     "output_type": "stream",
     "text": [
      "12501\n",
      "12501\n"
     ]
    }
   ],
   "source": [
    "print(len(os.listdir('/tmp/PetImages/Cat/')))\n",
    "print(len(os.listdir('/tmp/PetImages/Dog/')))\n",
    "\n",
    "# Expected Output:\n",
    "# 12501\n",
    "# 12501"
   ]
  },
  {
   "cell_type": "code",
   "execution_count": 4,
   "metadata": {
    "colab": {},
    "colab_type": "code",
    "id": "F-QkLjxpmyK2"
   },
   "outputs": [],
   "source": [
    "try:\n",
    "    os.mkdir('/tmp/cats-v-dogs')\n",
    "    os.mkdir('/tmp/cats-v-dogs/training')\n",
    "    os.mkdir('/tmp/cats-v-dogs/testing')\n",
    "    os.mkdir('/tmp/cats-v-dogs/training/cats')\n",
    "    os.mkdir('/tmp/cats-v-dogs/training/dogs')\n",
    "    os.mkdir('/tmp/cats-v-dogs/testing/cats')\n",
    "    os.mkdir('/tmp/cats-v-dogs/testing/dogs')\n",
    "except OSError:\n",
    "    pass"
   ]
  },
  {
   "cell_type": "code",
   "execution_count": 5,
   "metadata": {
    "colab": {
     "base_uri": "https://localhost:8080/",
     "height": 51
    },
    "colab_type": "code",
    "id": "zvSODo0f9LaU",
    "outputId": "adf3b359-5243-4535-9543-8a2295c5e0eb"
   },
   "outputs": [
    {
     "name": "stdout",
     "output_type": "stream",
     "text": [
      "666.jpg is zero length, so ignoring.\n",
      "11702.jpg is zero length, so ignoring.\n"
     ]
    }
   ],
   "source": [
    "def split_data(SOURCE, TRAINING, TESTING, SPLIT_SIZE):\n",
    "    files = []\n",
    "    for filename in os.listdir(SOURCE):\n",
    "        file = SOURCE + filename\n",
    "        if os.path.getsize(file) > 0:\n",
    "            files.append(filename)\n",
    "        else:\n",
    "            print(filename + \" is zero length, so ignoring.\")\n",
    "\n",
    "    training_length = int(len(files) * SPLIT_SIZE)\n",
    "    testing_length = int(len(files) - training_length)\n",
    "    shuffled_set = random.sample(files, len(files))\n",
    "    training_set = shuffled_set[0:training_length]\n",
    "    testing_set = shuffled_set[-testing_length:]\n",
    "\n",
    "    for filename in training_set:\n",
    "        this_file = SOURCE + filename\n",
    "        destination = TRAINING + filename\n",
    "        copyfile(this_file, destination)\n",
    "\n",
    "    for filename in testing_set:\n",
    "        this_file = SOURCE + filename\n",
    "        destination = TESTING + filename\n",
    "        copyfile(this_file, destination)\n",
    "\n",
    "\n",
    "CAT_SOURCE_DIR = \"/tmp/PetImages/Cat/\"\n",
    "TRAINING_CATS_DIR = \"/tmp/cats-v-dogs/training/cats/\"\n",
    "TESTING_CATS_DIR = \"/tmp/cats-v-dogs/testing/cats/\"\n",
    "DOG_SOURCE_DIR = \"/tmp/PetImages/Dog/\"\n",
    "TRAINING_DOGS_DIR = \"/tmp/cats-v-dogs/training/dogs/\"\n",
    "TESTING_DOGS_DIR = \"/tmp/cats-v-dogs/testing/dogs/\"\n",
    "\n",
    "split_size = .9\n",
    "split_data(CAT_SOURCE_DIR, TRAINING_CATS_DIR, TESTING_CATS_DIR, split_size)\n",
    "split_data(DOG_SOURCE_DIR, TRAINING_DOGS_DIR, TESTING_DOGS_DIR, split_size)\n",
    "\n",
    "# Expected output\n",
    "# 666.jpg is zero length, so ignoring\n",
    "# 11702.jpg is zero length, so ignoring"
   ]
  },
  {
   "cell_type": "code",
   "execution_count": 6,
   "metadata": {
    "colab": {
     "base_uri": "https://localhost:8080/",
     "height": 85
    },
    "colab_type": "code",
    "id": "hwHXFhVG3786",
    "outputId": "bd1e71da-bdaa-433a-eb6c-28e02fc9925b"
   },
   "outputs": [
    {
     "name": "stdout",
     "output_type": "stream",
     "text": [
      "11250\n",
      "11250\n",
      "1250\n",
      "1250\n"
     ]
    }
   ],
   "source": [
    "print(len(os.listdir('/tmp/cats-v-dogs/training/cats/')))\n",
    "print(len(os.listdir('/tmp/cats-v-dogs/training/dogs/')))\n",
    "print(len(os.listdir('/tmp/cats-v-dogs/testing/cats/')))\n",
    "print(len(os.listdir('/tmp/cats-v-dogs/testing/dogs/')))\n",
    "\n",
    "# Expected output:\n",
    "# 11250\n",
    "# 11250\n",
    "# 1250\n",
    "# 1250"
   ]
  },
  {
   "cell_type": "code",
   "execution_count": 7,
   "metadata": {
    "colab": {},
    "colab_type": "code",
    "id": "-BQrav4anTmj"
   },
   "outputs": [],
   "source": [
    "model = tf.keras.models.Sequential([\n",
    "    tf.keras.layers.Conv2D(16, (3, 3), activation='relu', input_shape=(150, 150, 3)),\n",
    "    tf.keras.layers.MaxPooling2D(2, 2),\n",
    "    tf.keras.layers.Conv2D(32, (3, 3), activation='relu'),\n",
    "    tf.keras.layers.MaxPooling2D(2, 2),\n",
    "    tf.keras.layers.Conv2D(64, (3, 3), activation='relu'),\n",
    "    tf.keras.layers.MaxPooling2D(2, 2),\n",
    "    tf.keras.layers.Flatten(),\n",
    "    tf.keras.layers.Dense(512, activation='relu'),\n",
    "    tf.keras.layers.Dense(1, activation='sigmoid')\n",
    "])\n",
    "\n",
    "model.compile(optimizer=RMSprop(lr=0.001), loss='binary_crossentropy', metrics=['acc'])\n"
   ]
  },
  {
   "cell_type": "code",
   "execution_count": 8,
   "metadata": {
    "colab": {
     "base_uri": "https://localhost:8080/",
     "height": 51
    },
    "colab_type": "code",
    "id": "fQrZfVgz4j2g",
    "outputId": "71ce47c9-1ac0-4f50-d036-8a60e144a7db"
   },
   "outputs": [
    {
     "name": "stdout",
     "output_type": "stream",
     "text": [
      "Found 22498 images belonging to 2 classes.\n",
      "Found 2500 images belonging to 2 classes.\n"
     ]
    }
   ],
   "source": [
    "\n",
    "TRAINING_DIR = \"/tmp/cats-v-dogs/training/\"\n",
    "train_datagen = ImageDataGenerator(rescale=1.0/255.)\n",
    "train_generator = train_datagen.flow_from_directory(TRAINING_DIR,\n",
    "                                                    batch_size=100,\n",
    "                                                    class_mode='binary',\n",
    "                                                    target_size=(150, 150))\n",
    "\n",
    "VALIDATION_DIR = \"/tmp/cats-v-dogs/testing/\"\n",
    "validation_datagen = ImageDataGenerator(rescale=1.0/255.)\n",
    "validation_generator = validation_datagen.flow_from_directory(VALIDATION_DIR,\n",
    "                                                              batch_size=100,\n",
    "                                                              class_mode='binary',\n",
    "                                                              target_size=(150, 150))\n",
    "\n",
    "# Expected Output:\n",
    "# Found 22498 images belonging to 2 classes.\n",
    "# Found 2500 images belonging to 2 classes."
   ]
  },
  {
   "cell_type": "code",
   "execution_count": 9,
   "metadata": {
    "colab": {
     "base_uri": "https://localhost:8080/",
     "height": 1000
    },
    "colab_type": "code",
    "id": "5qE1G6JB4fMn",
    "outputId": "56145a37-feee-4b2b-846b-c18cd7c1ce83"
   },
   "outputs": [
    {
     "name": "stdout",
     "output_type": "stream",
     "text": [
      "WARNING:tensorflow:From <ipython-input-9-63164d982a5d>:5: Model.fit_generator (from tensorflow.python.keras.engine.training) is deprecated and will be removed in a future version.\n",
      "Instructions for updating:\n",
      "Please use Model.fit, which supports generators.\n",
      "Epoch 1/50\n",
      " 63/225 [=======>......................] - ETA: 54s - loss: 0.7492 - acc: 0.5765"
     ]
    },
    {
     "name": "stderr",
     "output_type": "stream",
     "text": [
      "/usr/local/lib/python3.6/dist-packages/PIL/TiffImagePlugin.py:770: UserWarning: Possibly corrupt EXIF data.  Expecting to read 32 bytes but only got 0. Skipping tag 270\n",
      "  \" Skipping tag %s\" % (size, len(data), tag)\n",
      "/usr/local/lib/python3.6/dist-packages/PIL/TiffImagePlugin.py:770: UserWarning: Possibly corrupt EXIF data.  Expecting to read 5 bytes but only got 0. Skipping tag 271\n",
      "  \" Skipping tag %s\" % (size, len(data), tag)\n",
      "/usr/local/lib/python3.6/dist-packages/PIL/TiffImagePlugin.py:770: UserWarning: Possibly corrupt EXIF data.  Expecting to read 8 bytes but only got 0. Skipping tag 272\n",
      "  \" Skipping tag %s\" % (size, len(data), tag)\n",
      "/usr/local/lib/python3.6/dist-packages/PIL/TiffImagePlugin.py:770: UserWarning: Possibly corrupt EXIF data.  Expecting to read 8 bytes but only got 0. Skipping tag 282\n",
      "  \" Skipping tag %s\" % (size, len(data), tag)\n",
      "/usr/local/lib/python3.6/dist-packages/PIL/TiffImagePlugin.py:770: UserWarning: Possibly corrupt EXIF data.  Expecting to read 8 bytes but only got 0. Skipping tag 283\n",
      "  \" Skipping tag %s\" % (size, len(data), tag)\n",
      "/usr/local/lib/python3.6/dist-packages/PIL/TiffImagePlugin.py:770: UserWarning: Possibly corrupt EXIF data.  Expecting to read 20 bytes but only got 0. Skipping tag 306\n",
      "  \" Skipping tag %s\" % (size, len(data), tag)\n",
      "/usr/local/lib/python3.6/dist-packages/PIL/TiffImagePlugin.py:770: UserWarning: Possibly corrupt EXIF data.  Expecting to read 48 bytes but only got 0. Skipping tag 532\n",
      "  \" Skipping tag %s\" % (size, len(data), tag)\n",
      "/usr/local/lib/python3.6/dist-packages/PIL/TiffImagePlugin.py:788: UserWarning: Corrupt EXIF data.  Expecting to read 2 bytes but only got 0. \n",
      "  warnings.warn(str(msg))\n"
     ]
    },
    {
     "name": "stdout",
     "output_type": "stream",
     "text": [
      "225/225 [==============================] - 86s 382ms/step - loss: 0.6250 - acc: 0.6637 - val_loss: 0.5354 - val_acc: 0.7536\n",
      "Epoch 2/50\n",
      "225/225 [==============================] - 87s 388ms/step - loss: 0.4800 - acc: 0.7696 - val_loss: 0.4993 - val_acc: 0.7640\n",
      "Epoch 3/50\n",
      "225/225 [==============================] - 87s 386ms/step - loss: 0.4081 - acc: 0.8146 - val_loss: 0.4158 - val_acc: 0.8096\n",
      "Epoch 4/50\n",
      "225/225 [==============================] - 87s 387ms/step - loss: 0.3474 - acc: 0.8475 - val_loss: 0.4222 - val_acc: 0.8140\n",
      "Epoch 5/50\n",
      "225/225 [==============================] - 87s 386ms/step - loss: 0.2869 - acc: 0.8778 - val_loss: 0.4198 - val_acc: 0.8264\n",
      "Epoch 6/50\n",
      "225/225 [==============================] - 87s 385ms/step - loss: 0.2117 - acc: 0.9135 - val_loss: 0.4845 - val_acc: 0.8200\n",
      "Epoch 7/50\n",
      "225/225 [==============================] - 87s 387ms/step - loss: 0.1435 - acc: 0.9451 - val_loss: 0.5282 - val_acc: 0.8320\n",
      "Epoch 8/50\n",
      "225/225 [==============================] - 87s 386ms/step - loss: 0.0909 - acc: 0.9660 - val_loss: 0.6829 - val_acc: 0.7864\n",
      "Epoch 9/50\n",
      "225/225 [==============================] - 87s 386ms/step - loss: 0.0656 - acc: 0.9779 - val_loss: 0.7140 - val_acc: 0.8336\n",
      "Epoch 10/50\n",
      "225/225 [==============================] - 87s 385ms/step - loss: 0.0543 - acc: 0.9830 - val_loss: 0.7392 - val_acc: 0.8316\n",
      "Epoch 11/50\n",
      "225/225 [==============================] - 87s 385ms/step - loss: 0.0459 - acc: 0.9869 - val_loss: 0.8237 - val_acc: 0.8220\n",
      "Epoch 12/50\n",
      "225/225 [==============================] - 86s 384ms/step - loss: 0.0489 - acc: 0.9873 - val_loss: 0.9605 - val_acc: 0.8300\n",
      "Epoch 13/50\n",
      "225/225 [==============================] - 87s 387ms/step - loss: 0.0436 - acc: 0.9893 - val_loss: 1.0703 - val_acc: 0.8216\n",
      "Epoch 14/50\n",
      "225/225 [==============================] - 86s 383ms/step - loss: 0.0438 - acc: 0.9904 - val_loss: 1.1216 - val_acc: 0.8264\n",
      "Epoch 15/50\n",
      "225/225 [==============================] - 86s 383ms/step - loss: 0.0412 - acc: 0.9907 - val_loss: 1.1303 - val_acc: 0.8308\n",
      "Epoch 16/50\n",
      "225/225 [==============================] - 86s 381ms/step - loss: 0.0366 - acc: 0.9908 - val_loss: 1.1803 - val_acc: 0.8272\n",
      "Epoch 17/50\n",
      "225/225 [==============================] - 86s 384ms/step - loss: 0.0366 - acc: 0.9904 - val_loss: 1.1560 - val_acc: 0.8192\n",
      "Epoch 18/50\n",
      "225/225 [==============================] - 87s 388ms/step - loss: 0.0306 - acc: 0.9929 - val_loss: 1.3965 - val_acc: 0.8204\n",
      "Epoch 19/50\n",
      "225/225 [==============================] - 86s 383ms/step - loss: 0.0412 - acc: 0.9919 - val_loss: 3.8008 - val_acc: 0.6780\n",
      "Epoch 20/50\n",
      "225/225 [==============================] - 88s 391ms/step - loss: 0.0383 - acc: 0.9919 - val_loss: 1.4617 - val_acc: 0.8220\n",
      "Epoch 21/50\n",
      "225/225 [==============================] - 88s 389ms/step - loss: 0.0456 - acc: 0.9918 - val_loss: 1.3208 - val_acc: 0.8160\n",
      "Epoch 22/50\n",
      "225/225 [==============================] - 87s 388ms/step - loss: 0.0485 - acc: 0.9895 - val_loss: 1.2741 - val_acc: 0.8172\n",
      "Epoch 23/50\n",
      "225/225 [==============================] - 87s 387ms/step - loss: 0.0413 - acc: 0.9910 - val_loss: 1.1115 - val_acc: 0.8108\n",
      "Epoch 24/50\n",
      "225/225 [==============================] - 88s 390ms/step - loss: 0.0317 - acc: 0.9945 - val_loss: 1.5834 - val_acc: 0.8188\n",
      "Epoch 25/50\n",
      "225/225 [==============================] - 88s 393ms/step - loss: 0.0564 - acc: 0.9916 - val_loss: 2.0691 - val_acc: 0.7508\n",
      "Epoch 26/50\n",
      "225/225 [==============================] - 88s 393ms/step - loss: 0.0318 - acc: 0.9932 - val_loss: 1.2768 - val_acc: 0.8136\n",
      "Epoch 27/50\n",
      "225/225 [==============================] - 88s 392ms/step - loss: 0.0355 - acc: 0.9907 - val_loss: 1.5847 - val_acc: 0.8100\n",
      "Epoch 28/50\n",
      "225/225 [==============================] - 86s 384ms/step - loss: 0.0408 - acc: 0.9923 - val_loss: 1.0246 - val_acc: 0.8016\n",
      "Epoch 29/50\n",
      "225/225 [==============================] - 87s 387ms/step - loss: 0.0266 - acc: 0.9938 - val_loss: 1.7736 - val_acc: 0.8132\n",
      "Epoch 30/50\n",
      "225/225 [==============================] - 86s 384ms/step - loss: 0.0442 - acc: 0.9929 - val_loss: 1.5548 - val_acc: 0.8108\n",
      "Epoch 31/50\n",
      "225/225 [==============================] - 87s 389ms/step - loss: 0.0416 - acc: 0.9911 - val_loss: 1.3767 - val_acc: 0.8028\n",
      "Epoch 32/50\n",
      "225/225 [==============================] - 88s 389ms/step - loss: 0.0472 - acc: 0.9916 - val_loss: 1.4228 - val_acc: 0.8132\n",
      "Epoch 33/50\n",
      "225/225 [==============================] - 87s 388ms/step - loss: 0.0443 - acc: 0.9932 - val_loss: 1.6125 - val_acc: 0.7968\n",
      "Epoch 34/50\n",
      "225/225 [==============================] - 87s 386ms/step - loss: 0.0401 - acc: 0.9919 - val_loss: 1.9381 - val_acc: 0.8096\n",
      "Epoch 35/50\n",
      "225/225 [==============================] - 87s 388ms/step - loss: 0.0547 - acc: 0.9889 - val_loss: 1.8392 - val_acc: 0.8208\n",
      "Epoch 36/50\n",
      "225/225 [==============================] - 87s 388ms/step - loss: 0.0812 - acc: 0.9855 - val_loss: 1.5281 - val_acc: 0.8052\n",
      "Epoch 37/50\n",
      "225/225 [==============================] - 87s 387ms/step - loss: 0.0541 - acc: 0.9897 - val_loss: 1.5891 - val_acc: 0.8084\n",
      "Epoch 38/50\n",
      "225/225 [==============================] - 88s 389ms/step - loss: 0.0667 - acc: 0.9895 - val_loss: 1.9565 - val_acc: 0.8024\n",
      "Epoch 39/50\n",
      "225/225 [==============================] - 87s 388ms/step - loss: 0.0485 - acc: 0.9916 - val_loss: 2.2589 - val_acc: 0.7936\n",
      "Epoch 40/50\n",
      "225/225 [==============================] - 88s 389ms/step - loss: 0.1052 - acc: 0.9900 - val_loss: 2.0386 - val_acc: 0.8132\n",
      "Epoch 41/50\n",
      "225/225 [==============================] - 88s 389ms/step - loss: 0.0774 - acc: 0.9884 - val_loss: 1.8369 - val_acc: 0.8176\n",
      "Epoch 42/50\n",
      "225/225 [==============================] - 88s 391ms/step - loss: 0.0776 - acc: 0.9887 - val_loss: 1.4450 - val_acc: 0.7976\n",
      "Epoch 43/50\n",
      "225/225 [==============================] - 88s 390ms/step - loss: 0.0547 - acc: 0.9922 - val_loss: 2.2223 - val_acc: 0.8112\n",
      "Epoch 44/50\n",
      "225/225 [==============================] - 87s 388ms/step - loss: 0.0653 - acc: 0.9890 - val_loss: 1.9431 - val_acc: 0.8112\n",
      "Epoch 45/50\n",
      "225/225 [==============================] - 88s 390ms/step - loss: 0.0833 - acc: 0.9894 - val_loss: 2.5528 - val_acc: 0.8092\n",
      "Epoch 46/50\n",
      "225/225 [==============================] - 87s 388ms/step - loss: 0.0653 - acc: 0.9876 - val_loss: 2.4423 - val_acc: 0.6432\n",
      "Epoch 47/50\n",
      "225/225 [==============================] - 87s 387ms/step - loss: 0.0389 - acc: 0.9921 - val_loss: 2.3688 - val_acc: 0.8000\n",
      "Epoch 48/50\n",
      "225/225 [==============================] - 87s 388ms/step - loss: 0.0367 - acc: 0.9930 - val_loss: 2.2434 - val_acc: 0.8204\n",
      "Epoch 49/50\n",
      "225/225 [==============================] - 88s 389ms/step - loss: 0.0629 - acc: 0.9888 - val_loss: 1.7663 - val_acc: 0.8036\n",
      "Epoch 50/50\n",
      "225/225 [==============================] - 87s 389ms/step - loss: 0.0587 - acc: 0.9900 - val_loss: 1.8811 - val_acc: 0.8104\n"
     ]
    }
   ],
   "source": [
    "# Note that this may take some time.\n",
    "history = model.fit_generator(train_generator,\n",
    "                              epochs=50,\n",
    "                              verbose=1,\n",
    "                              validation_data=validation_generator)"
   ]
  },
  {
   "cell_type": "code",
   "execution_count": 10,
   "metadata": {
    "colab": {
     "base_uri": "https://localhost:8080/",
     "height": 563
    },
    "colab_type": "code",
    "id": "MWZrJN4-65RC",
    "outputId": "ec4ceb34-161a-47e4-e08e-2e9976a5961b"
   },
   "outputs": [
    {
     "data": {
      "text/plain": [
       "<Figure size 432x288 with 0 Axes>"
      ]
     },
     "execution_count": 10,
     "metadata": {
      "tags": []
     },
     "output_type": "execute_result"
    },
    {
     "data": {
      "image/png": "[encoded data removed]",
      "text/plain": [
       "<Figure size 432x288 with 1 Axes>"
      ]
     },
     "metadata": {
      "needs_background": "light",
      "tags": []
     },
     "output_type": "display_data"
    },
    {
     "data": {
      "image/png": "[encoded data removed]",
      "text/plain": [
       "<Figure size 432x288 with 1 Axes>"
      ]
     },
     "metadata": {
      "needs_background": "light",
      "tags": []
     },
     "output_type": "display_data"
    },
    {
     "data": {
      "text/plain": [
       "<Figure size 432x288 with 0 Axes>"
      ]
     },
     "metadata": {
      "tags": []
     },
     "output_type": "display_data"
    }
   ],
   "source": [
    "%matplotlib inline\n",
    "\n",
    "import matplotlib.image  as mpimg\n",
    "import matplotlib.pyplot as plt\n",
    "\n",
    "#-----------------------------------------------------------\n",
    "# Retrieve a list of list results on training and test data\n",
    "# sets for each training epoch\n",
    "#-----------------------------------------------------------\n",
    "acc=history.history['acc']\n",
    "val_acc=history.history['val_acc']\n",
    "loss=history.history['loss']\n",
    "val_loss=history.history['val_loss']\n",
    "\n",
    "epochs=range(len(acc)) # Get number of epochs\n",
    "\n",
    "#------------------------------------------------\n",
    "# Plot training and validation accuracy per epoch\n",
    "#------------------------------------------------\n",
    "plt.plot(epochs, acc, 'r', \"Training Accuracy\")\n",
    "plt.plot(epochs, val_acc, 'b', \"Validation Accuracy\")\n",
    "plt.title('Training and validation accuracy')\n",
    "plt.figure()\n",
    "\n",
    "#------------------------------------------------\n",
    "# Plot training and validation loss per epoch\n",
    "#------------------------------------------------\n",
    "plt.plot(epochs, loss, 'r', \"Training Loss\")\n",
    "plt.plot(epochs, val_loss, 'b', \"Validation Loss\")\n",
    "plt.figure()\n",
    "\n",
    "\n",
    "# Desired output. Charts with training and validation metrics. No crash :)"
   ]
  },
  {
   "cell_type": "code",
   "execution_count": null,
   "metadata": {},
   "outputs": [],
   "source": [
    "# Here's a codeblock just for fun. You should be able to upload an image here \n",
    "# and have it classified without crashing\n",
    "import numpy as np\n",
    "from google.colab import files\n",
    "from keras.preprocessing import image\n",
    "\n",
    "uploaded = files.upload()\n",
    "\n",
    "for fn in uploaded.keys():\n",
    " \n",
    "  # predicting images\n",
    "  path = '/content/' + fn\n",
    "  img = image.load_img(path, target_size=(150, 150))\n",
    "  x = image.img_to_array(img)\n",
    "  x = np.expand_dims(x, axis=0)\n",
    "\n",
    "  images = np.vstack([x])\n",
    "  classes = model.predict(images, batch_size=10)\n",
    "  print(classes[0])\n",
    "  if classes[0]>0.5:\n",
    "    print(fn + \" is a dog\")\n",
    "  else:\n",
    "    print(fn + \" is a cat\")"
   ]
  }
 ],
 "metadata": {
  "accelerator": "GPU",
  "colab": {
   "name": "Exercise_5_Answer.ipynb",
   "provenance": []
  },
  "kernelspec": {
   "display_name": "Python 3",
   "language": "python",
   "name": "python3"
  },
  "language_info": {
   "codemirror_mode": {
    "name": "ipython",
    "version": 3
   },
   "file_extension": ".py",
   "mimetype": "text/x-python",
   "name": "python",
   "nbconvert_exporter": "python",
   "pygments_lexer": "ipython3",
   "version": "3.7.6"
  }
 },
 "nbformat": 4,
 "nbformat_minor": 1
}
